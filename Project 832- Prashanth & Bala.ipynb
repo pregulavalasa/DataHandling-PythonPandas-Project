{
 "cells": [
  {
   "cell_type": "markdown",
   "id": "eeba3eea-c805-403e-8202-e6c857820b0c",
   "metadata": {},
   "source": [
    "# PROJECT INSTRUCTIONS AND TEMPLATE"
   ]
  },
  {
   "cell_type": "markdown",
   "id": "2a6bb03d-8b9b-4385-97b6-df7667729f63",
   "metadata": {},
   "source": [
    "You will work with several data files for this project. The goal of the project is to read, clean and transform available data to provide meaningful insights and perform useful computations on the data. You will start with reading and pre-processing climate data and answering some questions using this data. Then you will add demand forecasts (which depend on the climate) to the data and calculate some metrics useful for operations management. \n",
    "\n",
    "Some scaffolding is provided but it is mostly left up to you to figure out the detailed steps to accomplish tasks. Keep in mind though that your work will be evaluated on 1) how accurate it is, 2) whether you have met all assignment specifications, 3) how efficient your code is (for example, did you use a loop for repeated tasks), 4) how well you followed the good coding practices emphasized in the course. \n",
    "\n",
    "The steps required for the project are such that you can accomplish all tasks (except one) using the functionality you have learned in the course. For the one exception, instructions mention the function that you should use. You can look it up  in the pandas reference and/or find examples on the web.\n",
    "\n",
    "**To complete and submit this project, execute the following steps:**\n",
    "\n",
    "\n",
    "1. Read the instructions in the remainder of this notebook and add your code to accomplish tasks. \n",
    "2. When you encounter questions to answer, write code to answer the question and then copy your answer to the markdown cell provided.\n",
    "3. When you get to the end of the questions, re-execute your code as outlined below\n",
    "    - Select Kernel > Resetart Kernel and Run All Cells from the menu bar. \n",
    "    - Look through your code cells to ensure there are no errors. \n",
    "    - Look through all the questions and ensure that your response in the markdown cell matches the result you get from the corresponding code cell. \n",
    "    - Fix and errors/ mismatches that you find. \n",
    "4. After you have fixed all errors/ mismatches, access the Final Project Canvas quiz and submit your answers to all questions(**ONLY ONE TEAM MEMBER SHOULD TAKE THE QUIZ**). Upload your notebook as a response to the last quiz question. The quiz will allow 3 attempts and record your highest score. You will be able to see which of your responses are incorrect after each attempt. Use this information to fix errors in your notebook to get revised answers to the questions. Note that this may change answers to questions you answered correctly before. That should be a clue that you may still not have arrived at the correct answers. Once you are satisfied with your responses, attempt the Canvas quiz again and enter new responses. Upload the new version of your notebook as well. All your responses should be consistent with the latest version of your notebook (the TAs will verify this when they grade the manual part of the project). The notebook corresponding to the quiz attempt with the highest score will be manually graded to 1) confirm that the answers in the notebook match your quiz responses and 2) to grade other rubric items mentioned above (items and points are listed in the Canvas quiz). "
   ]
  },
  {
   "cell_type": "markdown",
   "id": "f9232575-329c-40f1-8ef6-16c5833b0b7b",
   "metadata": {},
   "source": [
    "## <font color = 'red'>TEAM INFORMATION</font>\n",
    "\n",
    "<font color = 'red'>Please type all team member names below.</font>\n",
    "\n",
    "**Team member 1:** Prashanth Regulavalasa\n",
    "\n",
    "**Team member 2:** Bala Sai Nadh Kesana"
   ]
  },
  {
   "cell_type": "markdown",
   "id": "30ef3341-3923-4438-aa90-990cf4174932",
   "metadata": {},
   "source": [
    "## Data Preparation"
   ]
  },
  {
   "cell_type": "markdown",
   "id": "12f151f0-89d0-4a18-91db-284e4d1c3983",
   "metadata": {},
   "source": [
    "The data files for this project are available in the climate_data.zip folder. Download and unzip the folder (extract the files from the zip archive). When you do, you will see three folders named \"total_precipitation\", \"vapor_pressure\" and \"sunshine_duration\". Each folder contains multiple text files. Upload the folders to the same location as your project notebook. If you do this correctly, the pathname for the file total_precipitation_1951.txt will be \"total_precipitation/total_precipitation_1951.txt\"."
   ]
  },
  {
   "cell_type": "markdown",
   "id": "04ad77ca-e399-493f-8e6f-904c9b8d9242",
   "metadata": {},
   "source": [
    "Check the contents of the three folders. Each folder contains multiple files. Each file contains data for 12 months of a particular year. The year is identified in the name of the file and is also the first number in the file. The subsequent numbers in each file (after the year) are measurements for a given quantity (total precipiation, vapor pressure or sunshine duration) for the different months of the year. Notice that the column headers, which are included in the file content, are in German."
   ]
  },
  {
   "cell_type": "markdown",
   "id": "4487d56b-600b-4fb6-ab17-657ee0ff9d81",
   "metadata": {},
   "source": [
    "Read the data from all files in the three folders into three dataframes called precipation_data, vaopr_data and sunshine_data that meet the following specifications:\n",
    "\n",
    "* Missing values are denoted by np.NaN\n",
    "* Column names are in English instead of German"
   ]
  },
  {
   "cell_type": "markdown",
   "id": "b0d41eb9-5668-4540-b8d9-8cb744321bd7",
   "metadata": {},
   "source": [
    "Find an efficient way to perform this task. Feel free to research new modules/libraries for this (e.g., the `os` module could be useful here)."
   ]
  },
  {
   "cell_type": "markdown",
   "id": "98260e06-2de5-4bdc-9889-403b7d1762e4",
   "metadata": {},
   "source": [
    "Perform the necessary checks to ensure that all files have been read, all data has been combined correctly and the data have appropriate data types."
   ]
  },
  {
   "cell_type": "code",
   "execution_count": 1,
   "id": "6145e1a5-7ecd-41ad-b2ae-06ce0898d8d1",
   "metadata": {},
   "outputs": [],
   "source": [
    "# Imported required libraries and initialized dataframes for appending the respective data\n",
    "import pandas as pd\n",
    "import os\n",
    "import calendar\n",
    "\n",
    "precipitation_data = pd.DataFrame()\n",
    "vapor_data = pd.DataFrame()\n",
    "sunshine_data = pd.DataFrame()\n",
    "\n",
    "# Created a list to use as the column names\n",
    "month_names = list(calendar.month_name)[1:]\n",
    "col_names = ['Year']+month_names\n",
    "\n",
    "# Set the current working directory as a string variable\n",
    "cwd = '/home/jupyter-pfr5214/BAN832_Course'\n",
    "for df in ['total_precipitation','vapor_pressure','sunshine_duration']:\n",
    "    os.chdir(cwd+'/'+df) # changed the working directory to required folder\n",
    "    for file in os.listdir(): \n",
    "        try: # looping through the files with no errors due to checklist directory\n",
    "            data = pd.read_csv(file, sep=\";\", header=None, skiprows=1, names=col_names)\n",
    "        except:\n",
    "            continue\n",
    "        else:\n",
    "            data = data.transpose()\n",
    "            data['Year'] = data.iloc[0, 0].astype(int)\n",
    "            data = data.iloc[1: , :].reset_index().rename(columns = {'index' : 'Month',0 : df})\n",
    "            data = data[['Year','Month',df]]\n",
    "            if df == 'total_precipitation':\n",
    "                precipitation_data = precipitation_data.append(data)\n",
    "            elif df == 'vapor_pressure':\n",
    "                vapor_data = vapor_data.append(data)\n",
    "            else:\n",
    "                sunshine_data = sunshine_data.append(data)\n",
    "    os.chdir('../') # changed the working directory to base folder"
   ]
  },
  {
   "cell_type": "code",
   "execution_count": 2,
   "id": "4635db06-dc22-4aa5-9be9-98fb64379bb7",
   "metadata": {},
   "outputs": [
    {
     "name": "stdout",
     "output_type": "stream",
     "text": [
      "total_precipitation folder has '67' files (/years data).\n",
      "vapor_pressure folder has '44' files (/years data).\n",
      "sunshine_duration folder has '39' files (/years data).\n"
     ]
    }
   ],
   "source": [
    "# Set the current working directory as a string variable\n",
    "cwd = '/home/jupyter-pfr5214/BAN832_Course'\n",
    "for df in ['total_precipitation','vapor_pressure','sunshine_duration']: # Check for each dataframe\n",
    "    os.chdir(cwd+'/'+df)\n",
    "    files = os.listdir()\n",
    "    files = [i for i in files if i != '.ipynb_checkpoints'] # Got the files (/ number of years) to be added to the dataframe which are not .ipynb_checkpoint files\n",
    "    print(df + \" folder has '\" +str(len(files))+ \"' files (/years data).\") # Number is printed to cross check"
   ]
  },
  {
   "cell_type": "code",
   "execution_count": 3,
   "id": "fdf0798e-d4af-410a-9a68-38e671e91963",
   "metadata": {},
   "outputs": [
    {
     "name": "stdout",
     "output_type": "stream",
     "text": [
      "           Year  total_precipitation\n",
      "Month                               \n",
      "April        67                   67\n",
      "August       67                   67\n",
      "December     67                   67\n",
      "February     67                   67\n",
      "January      67                   67\n",
      "July         67                   67\n",
      "June         67                   67\n",
      "March        67                   67\n",
      "May          67                   67\n",
      "November     67                   67\n",
      "October      67                   67\n",
      "September    67                   67\n",
      "           Year  vapor_pressure\n",
      "Month                          \n",
      "April        44              23\n",
      "August       44              29\n",
      "December     44              24\n",
      "February     44              27\n",
      "January      44              27\n",
      "July         44              30\n",
      "June         44              22\n",
      "March        44              29\n",
      "May          44              25\n",
      "November     44              28\n",
      "October      44              27\n",
      "September    44              28\n",
      "           Year  sunshine_duration\n",
      "Month                             \n",
      "April        39                 30\n",
      "August       39                 26\n",
      "December     39                 28\n",
      "February     39                 28\n",
      "January      39                 30\n",
      "July         39                 27\n",
      "June         39                 27\n",
      "March        39                 32\n",
      "May          39                 33\n",
      "November     39                 28\n",
      "October      39                 28\n",
      "September    39                 30\n"
     ]
    }
   ],
   "source": [
    "# Printed the counts of non null values in all columns to cross check\n",
    "print(precipitation_data.groupby('Month').count())\n",
    "print(vapor_data.groupby('Month').count())\n",
    "print(sunshine_data.groupby('Month').count())"
   ]
  },
  {
   "cell_type": "markdown",
   "id": "31f9dfd7-0697-423a-a6b1-a27d0f54267c",
   "metadata": {},
   "source": [
    "<font color = 'green'>The precipitation_data, vapor_data, and sunshine_data dataframe have 67, 44, and 39 years respectively, which matches with the number of files, so we got all the files.</font>"
   ]
  },
  {
   "cell_type": "code",
   "execution_count": 4,
   "id": "4546d8b4-2735-49f4-9328-8a57c2b11526",
   "metadata": {},
   "outputs": [
    {
     "name": "stdout",
     "output_type": "stream",
     "text": [
      "      Month  total_precipitation\n",
      "Year                            \n",
      "1951     12                   12\n",
      "1952     12                   12\n",
      "1953     12                   12\n",
      "1954     12                   12\n",
      "1955     12                   12\n",
      "...     ...                  ...\n",
      "2013     12                   12\n",
      "2014     12                   12\n",
      "2015     12                   12\n",
      "2016     12                   12\n",
      "2017     12                   12\n",
      "\n",
      "[67 rows x 2 columns]\n",
      "      Month  vapor_pressure\n",
      "Year                       \n",
      "1968     12              12\n",
      "1969     12              11\n",
      "1970     12              11\n",
      "1971     12               8\n",
      "1972     12               2\n",
      "1974     12               6\n",
      "1975     12              11\n",
      "1976     12               3\n",
      "1978     12               6\n",
      "1979     12               9\n",
      "1980     12               8\n",
      "1981     12               9\n",
      "1982     12              11\n",
      "1983     12              12\n",
      "1984     12              11\n",
      "1985     12               7\n",
      "1986     12               8\n",
      "1987     12               7\n",
      "1988     12              12\n",
      "1989     12              11\n",
      "1990     12               9\n",
      "1991     12               9\n",
      "1992     12               9\n",
      "1993     12              10\n",
      "1994     12              11\n",
      "1995     12               1\n",
      "1997     12               1\n",
      "2000     12               1\n",
      "2001     12               1\n",
      "2002     12               2\n",
      "2003     12               1\n",
      "2004     12               2\n",
      "2006     12               1\n",
      "2007     12               1\n",
      "2008     12               1\n",
      "2009     12               1\n",
      "2010     12               1\n",
      "2011     12              12\n",
      "2012     12              10\n",
      "2013     12              12\n",
      "2014     12              12\n",
      "2015     12              12\n",
      "2016     12              12\n",
      "2017     12              12\n",
      "      Month  sunshine_duration\n",
      "Year                          \n",
      "1978     12                  4\n",
      "1979     12                  4\n",
      "1980     12                  8\n",
      "1981     12                  8\n",
      "1982     12                  9\n",
      "1983     12                 11\n",
      "1984     12                 12\n",
      "1985     12                  8\n",
      "1986     12                  7\n",
      "1987     12                  8\n",
      "1988     12                  9\n",
      "1989     12                  9\n",
      "1990     12                 10\n",
      "1991     12                  9\n",
      "1992     12                  9\n",
      "1993     12                  9\n",
      "1994     12                 10\n",
      "1995     12                  8\n",
      "1996     12                  2\n",
      "1997     12                 11\n",
      "1998     12                  5\n",
      "1999     12                 10\n",
      "2000     12                 11\n",
      "2001     12                  8\n",
      "2002     12                  9\n",
      "2003     12                  8\n",
      "2004     12                 10\n",
      "2005     12                  6\n",
      "2006     12                 10\n",
      "2007     12                 10\n",
      "2008     12                  9\n",
      "2009     12                 11\n",
      "2010     12                  9\n",
      "2011     12                 11\n",
      "2012     12                  9\n",
      "2013     12                 11\n",
      "2014     12                 12\n",
      "2015     12                 12\n",
      "2016     12                 11\n"
     ]
    }
   ],
   "source": [
    "print(precipitation_data.groupby('Year').count())\n",
    "print(vapor_data.groupby('Year').count())\n",
    "print(sunshine_data.groupby('Year').count())"
   ]
  },
  {
   "cell_type": "markdown",
   "id": "ec2314c1-ce8d-40cb-929f-943b8de9b392",
   "metadata": {},
   "source": [
    "<font color = 'green'>The data appending worked perfectly alright and we have all the years with 12 months in it. However, we can observe that we do not have values for a few months in the vapor_data and sunshine_data dataframes.</font>"
   ]
  },
  {
   "cell_type": "code",
   "execution_count": 5,
   "id": "686dae6e-d19d-421c-b0cd-40566f6f41d8",
   "metadata": {},
   "outputs": [
    {
     "name": "stdout",
     "output_type": "stream",
     "text": [
      "<class 'pandas.core.frame.DataFrame'>\n",
      "Int64Index: 804 entries, 0 to 11\n",
      "Data columns (total 3 columns):\n",
      " #   Column               Non-Null Count  Dtype  \n",
      "---  ------               --------------  -----  \n",
      " 0   Year                 804 non-null    int64  \n",
      " 1   Month                804 non-null    object \n",
      " 2   total_precipitation  804 non-null    float64\n",
      "dtypes: float64(1), int64(1), object(1)\n",
      "memory usage: 25.1+ KB\n",
      "None\n",
      "<class 'pandas.core.frame.DataFrame'>\n",
      "Int64Index: 528 entries, 0 to 11\n",
      "Data columns (total 3 columns):\n",
      " #   Column          Non-Null Count  Dtype  \n",
      "---  ------          --------------  -----  \n",
      " 0   Year            528 non-null    int64  \n",
      " 1   Month           528 non-null    object \n",
      " 2   vapor_pressure  319 non-null    float64\n",
      "dtypes: float64(1), int64(1), object(1)\n",
      "memory usage: 16.5+ KB\n",
      "None\n",
      "<class 'pandas.core.frame.DataFrame'>\n",
      "Int64Index: 468 entries, 0 to 11\n",
      "Data columns (total 3 columns):\n",
      " #   Column             Non-Null Count  Dtype  \n",
      "---  ------             --------------  -----  \n",
      " 0   Year               468 non-null    int64  \n",
      " 1   Month              468 non-null    object \n",
      " 2   sunshine_duration  347 non-null    float64\n",
      "dtypes: float64(1), int64(1), object(1)\n",
      "memory usage: 14.6+ KB\n",
      "None\n"
     ]
    }
   ],
   "source": [
    "print(precipitation_data.info())\n",
    "print(vapor_data.info())\n",
    "print(sunshine_data.info())"
   ]
  },
  {
   "cell_type": "markdown",
   "id": "30c2ec40-92e0-48c5-ac97-9b2c4acc4104",
   "metadata": {},
   "source": [
    "<font color = 'green'>The data types have been correctly identified. Null values confirmed in vapor and sunshine data.</font>"
   ]
  },
  {
   "cell_type": "markdown",
   "id": "e7cf6f3d-109f-4351-87ca-c2552d35c997",
   "metadata": {},
   "source": [
    "Answer the following questions using the three dataframes. Provide all code and also write your final answer in the markdown cell provided under the question. Round all results to 4 decimal places."
   ]
  },
  {
   "cell_type": "markdown",
   "id": "c90cae16-5d2d-43ad-8465-35fd33c9c2ce",
   "metadata": {},
   "source": [
    "<font color = 'blue'>**Question 1:** What is the total monthly precipitation in March (across all available years) in the data?</font>"
   ]
  },
  {
   "cell_type": "markdown",
   "id": "486641a8-7fb3-4add-be52-897d0b402bb3",
   "metadata": {},
   "source": [
    "<font color = 'green'>The total monthly precipitation in March (across all available years) is 3780 units.</font>"
   ]
  },
  {
   "cell_type": "code",
   "execution_count": 6,
   "id": "b309db82-ebcd-4f82-96a3-66b03f4869c4",
   "metadata": {},
   "outputs": [
    {
     "data": {
      "text/plain": [
       "3780.0"
      ]
     },
     "execution_count": 6,
     "metadata": {},
     "output_type": "execute_result"
    }
   ],
   "source": [
    "# Sliced the data for March month and performed a sum on the total_precipitation column\n",
    "precipitation_data[precipitation_data['Month']== 'March']['total_precipitation'].sum()"
   ]
  },
  {
   "cell_type": "markdown",
   "id": "3a8699d4-d66a-4295-8a48-8316a729608d",
   "metadata": {},
   "source": [
    "<font color = 'blue'>**Question 2:** What is the average vapor pressure in January in the data?</font>"
   ]
  },
  {
   "cell_type": "markdown",
   "id": "c7dc2a6f-1ef6-488a-a72e-818035244786",
   "metadata": {},
   "source": [
    "<font color = 'green'>The average vapor pressure for the month of January is 28.3444 units.</font>"
   ]
  },
  {
   "cell_type": "code",
   "execution_count": 7,
   "id": "bb930e9c-77fe-4dcc-8006-d55295e23a98",
   "metadata": {},
   "outputs": [
    {
     "data": {
      "text/plain": [
       "28.3444"
      ]
     },
     "execution_count": 7,
     "metadata": {},
     "output_type": "execute_result"
    }
   ],
   "source": [
    "# Sliced the data for January month and performed a mean aggregation function on the vapor_pressure column\n",
    "round(vapor_data[vapor_data['Month']== 'January']['vapor_pressure'].mean(), 4)"
   ]
  },
  {
   "cell_type": "markdown",
   "id": "ea124171-f567-4f2a-b87c-9c7b29171f91",
   "metadata": {},
   "source": [
    "<font color = 'blue'>**Question 3:** What is the mean sunshine duration for February in the data?</font>"
   ]
  },
  {
   "cell_type": "markdown",
   "id": "04526c68-d555-484e-8e90-a761c3d3412b",
   "metadata": {},
   "source": [
    "<font color = 'green'>The average sunshine duration for the month of February is 206.2143 units.</font>"
   ]
  },
  {
   "cell_type": "code",
   "execution_count": 8,
   "id": "7c9f1174-4ddb-4787-a131-05508b00b3e1",
   "metadata": {},
   "outputs": [
    {
     "data": {
      "text/plain": [
       "206.2143"
      ]
     },
     "execution_count": 8,
     "metadata": {},
     "output_type": "execute_result"
    }
   ],
   "source": [
    "# Sliced the data for february month and performed a mean aggregation function on the sunshine_duration column\n",
    "round(sunshine_data[sunshine_data['Month']== 'February']['sunshine_duration'].mean(), 4)"
   ]
  },
  {
   "cell_type": "markdown",
   "id": "52ad95c8-5a62-4d8c-b77e-347be863cc4a",
   "metadata": {},
   "source": [
    "Next, create a new dataframe called combined_data that combines the three dataframes into one dataframe that meets the following specifications:\n",
    "\n",
    "* Missing values are denoted by np.NaN\n",
    "* Column names are in English instead of German\n",
    "* The dataframe has the following columns\n",
    "    - Year\n",
    "    - Month\n",
    "    - Total_Precipitation\n",
    "    - Vapor_Pressure\n",
    "    - Sunshine_Duration\n",
    "* The dataframe has data only for those years for which we have files for all three quantities.  "
   ]
  },
  {
   "cell_type": "markdown",
   "id": "c5f92e26-1cfb-43e3-b1be-3be8efb3c703",
   "metadata": {},
   "source": [
    "Perform the necessary checks to ensure that the data has been transformed correctly."
   ]
  },
  {
   "cell_type": "code",
   "execution_count": 9,
   "id": "38415061-fbb4-48c6-ab99-ce73fd9579ed",
   "metadata": {},
   "outputs": [
    {
     "data": {
      "text/html": [
       "<div>\n",
       "<style scoped>\n",
       "    .dataframe tbody tr th:only-of-type {\n",
       "        vertical-align: middle;\n",
       "    }\n",
       "\n",
       "    .dataframe tbody tr th {\n",
       "        vertical-align: top;\n",
       "    }\n",
       "\n",
       "    .dataframe thead th {\n",
       "        text-align: right;\n",
       "    }\n",
       "</style>\n",
       "<table border=\"1\" class=\"dataframe\">\n",
       "  <thead>\n",
       "    <tr style=\"text-align: right;\">\n",
       "      <th></th>\n",
       "      <th>Year</th>\n",
       "      <th>Month</th>\n",
       "      <th>Total_Precipitation</th>\n",
       "      <th>Vapor_Pressure</th>\n",
       "      <th>Sunshine_Duration</th>\n",
       "    </tr>\n",
       "  </thead>\n",
       "  <tbody>\n",
       "    <tr>\n",
       "      <th>0</th>\n",
       "      <td>2011</td>\n",
       "      <td>January</td>\n",
       "      <td>112.0</td>\n",
       "      <td>29.7</td>\n",
       "      <td>NaN</td>\n",
       "    </tr>\n",
       "    <tr>\n",
       "      <th>1</th>\n",
       "      <td>2011</td>\n",
       "      <td>February</td>\n",
       "      <td>101.0</td>\n",
       "      <td>29.6</td>\n",
       "      <td>168.0</td>\n",
       "    </tr>\n",
       "    <tr>\n",
       "      <th>2</th>\n",
       "      <td>2011</td>\n",
       "      <td>March</td>\n",
       "      <td>70.0</td>\n",
       "      <td>30.5</td>\n",
       "      <td>177.0</td>\n",
       "    </tr>\n",
       "    <tr>\n",
       "      <th>3</th>\n",
       "      <td>2011</td>\n",
       "      <td>April</td>\n",
       "      <td>80.0</td>\n",
       "      <td>30.6</td>\n",
       "      <td>209.0</td>\n",
       "    </tr>\n",
       "    <tr>\n",
       "      <th>4</th>\n",
       "      <td>2011</td>\n",
       "      <td>May</td>\n",
       "      <td>28.0</td>\n",
       "      <td>31.5</td>\n",
       "      <td>168.0</td>\n",
       "    </tr>\n",
       "    <tr>\n",
       "      <th>...</th>\n",
       "      <td>...</td>\n",
       "      <td>...</td>\n",
       "      <td>...</td>\n",
       "      <td>...</td>\n",
       "      <td>...</td>\n",
       "    </tr>\n",
       "    <tr>\n",
       "      <th>415</th>\n",
       "      <td>2000</td>\n",
       "      <td>August</td>\n",
       "      <td>76.0</td>\n",
       "      <td>NaN</td>\n",
       "      <td>322.0</td>\n",
       "    </tr>\n",
       "    <tr>\n",
       "      <th>416</th>\n",
       "      <td>2000</td>\n",
       "      <td>September</td>\n",
       "      <td>103.0</td>\n",
       "      <td>NaN</td>\n",
       "      <td>208.0</td>\n",
       "    </tr>\n",
       "    <tr>\n",
       "      <th>417</th>\n",
       "      <td>2000</td>\n",
       "      <td>October</td>\n",
       "      <td>113.0</td>\n",
       "      <td>NaN</td>\n",
       "      <td>NaN</td>\n",
       "    </tr>\n",
       "    <tr>\n",
       "      <th>418</th>\n",
       "      <td>2000</td>\n",
       "      <td>November</td>\n",
       "      <td>24.0</td>\n",
       "      <td>NaN</td>\n",
       "      <td>202.0</td>\n",
       "    </tr>\n",
       "    <tr>\n",
       "      <th>419</th>\n",
       "      <td>2000</td>\n",
       "      <td>December</td>\n",
       "      <td>36.0</td>\n",
       "      <td>29.9</td>\n",
       "      <td>262.0</td>\n",
       "    </tr>\n",
       "  </tbody>\n",
       "</table>\n",
       "<p>420 rows × 5 columns</p>\n",
       "</div>"
      ],
      "text/plain": [
       "     Year      Month  Total_Precipitation  Vapor_Pressure  Sunshine_Duration\n",
       "0    2011    January                112.0            29.7                NaN\n",
       "1    2011   February                101.0            29.6              168.0\n",
       "2    2011      March                 70.0            30.5              177.0\n",
       "3    2011      April                 80.0            30.6              209.0\n",
       "4    2011        May                 28.0            31.5              168.0\n",
       "..    ...        ...                  ...             ...                ...\n",
       "415  2000     August                 76.0             NaN              322.0\n",
       "416  2000  September                103.0             NaN              208.0\n",
       "417  2000    October                113.0             NaN                NaN\n",
       "418  2000   November                 24.0             NaN              202.0\n",
       "419  2000   December                 36.0            29.9              262.0\n",
       "\n",
       "[420 rows x 5 columns]"
      ]
     },
     "execution_count": 9,
     "metadata": {},
     "output_type": "execute_result"
    }
   ],
   "source": [
    "# Joined the sunshine_data with vapor_data and precipitation_data\n",
    "combined_data = precipitation_data.merge(vapor_data, 'inner', left_on = ['Year','Month'], right_on = ['Year', 'Month']).merge(sunshine_data, 'inner', left_on = ['Year','Month'], right_on = ['Year', 'Month']).rename(columns = {'sunshine_duration':'Sunshine_Duration', 'vapor_pressure':'Vapor_Pressure','total_precipitation':'Total_Precipitation'})\n",
    "combined_data"
   ]
  },
  {
   "cell_type": "code",
   "execution_count": 10,
   "id": "b465cb63-4a11-4559-9aae-76f1d5a1a356",
   "metadata": {},
   "outputs": [
    {
     "data": {
      "text/plain": [
       "(35, 5)"
      ]
     },
     "execution_count": 10,
     "metadata": {},
     "output_type": "execute_result"
    }
   ],
   "source": [
    "combined_data.groupby('Year').count().reset_index().shape"
   ]
  },
  {
   "cell_type": "code",
   "execution_count": 11,
   "id": "6b325f74-5ae6-4206-8e33-6ef4cbccbe2a",
   "metadata": {},
   "outputs": [
    {
     "data": {
      "text/html": [
       "<div>\n",
       "<style scoped>\n",
       "    .dataframe tbody tr th:only-of-type {\n",
       "        vertical-align: middle;\n",
       "    }\n",
       "\n",
       "    .dataframe tbody tr th {\n",
       "        vertical-align: top;\n",
       "    }\n",
       "\n",
       "    .dataframe thead th {\n",
       "        text-align: right;\n",
       "    }\n",
       "</style>\n",
       "<table border=\"1\" class=\"dataframe\">\n",
       "  <thead>\n",
       "    <tr style=\"text-align: right;\">\n",
       "      <th></th>\n",
       "      <th>Month</th>\n",
       "      <th>Total_Precipitation</th>\n",
       "      <th>Vapor_Pressure</th>\n",
       "      <th>Sunshine_Duration</th>\n",
       "    </tr>\n",
       "    <tr>\n",
       "      <th>Year</th>\n",
       "      <th></th>\n",
       "      <th></th>\n",
       "      <th></th>\n",
       "      <th></th>\n",
       "    </tr>\n",
       "  </thead>\n",
       "  <tbody>\n",
       "    <tr>\n",
       "      <th>1978</th>\n",
       "      <td>12</td>\n",
       "      <td>12</td>\n",
       "      <td>6</td>\n",
       "      <td>4</td>\n",
       "    </tr>\n",
       "    <tr>\n",
       "      <th>1979</th>\n",
       "      <td>12</td>\n",
       "      <td>12</td>\n",
       "      <td>9</td>\n",
       "      <td>4</td>\n",
       "    </tr>\n",
       "    <tr>\n",
       "      <th>1980</th>\n",
       "      <td>12</td>\n",
       "      <td>12</td>\n",
       "      <td>8</td>\n",
       "      <td>8</td>\n",
       "    </tr>\n",
       "    <tr>\n",
       "      <th>1981</th>\n",
       "      <td>12</td>\n",
       "      <td>12</td>\n",
       "      <td>9</td>\n",
       "      <td>8</td>\n",
       "    </tr>\n",
       "    <tr>\n",
       "      <th>1982</th>\n",
       "      <td>12</td>\n",
       "      <td>12</td>\n",
       "      <td>11</td>\n",
       "      <td>9</td>\n",
       "    </tr>\n",
       "    <tr>\n",
       "      <th>1983</th>\n",
       "      <td>12</td>\n",
       "      <td>12</td>\n",
       "      <td>12</td>\n",
       "      <td>11</td>\n",
       "    </tr>\n",
       "    <tr>\n",
       "      <th>1984</th>\n",
       "      <td>12</td>\n",
       "      <td>12</td>\n",
       "      <td>11</td>\n",
       "      <td>12</td>\n",
       "    </tr>\n",
       "    <tr>\n",
       "      <th>1985</th>\n",
       "      <td>12</td>\n",
       "      <td>12</td>\n",
       "      <td>7</td>\n",
       "      <td>8</td>\n",
       "    </tr>\n",
       "    <tr>\n",
       "      <th>1986</th>\n",
       "      <td>12</td>\n",
       "      <td>12</td>\n",
       "      <td>8</td>\n",
       "      <td>7</td>\n",
       "    </tr>\n",
       "    <tr>\n",
       "      <th>1987</th>\n",
       "      <td>12</td>\n",
       "      <td>12</td>\n",
       "      <td>7</td>\n",
       "      <td>8</td>\n",
       "    </tr>\n",
       "    <tr>\n",
       "      <th>1988</th>\n",
       "      <td>12</td>\n",
       "      <td>12</td>\n",
       "      <td>12</td>\n",
       "      <td>9</td>\n",
       "    </tr>\n",
       "    <tr>\n",
       "      <th>1989</th>\n",
       "      <td>12</td>\n",
       "      <td>12</td>\n",
       "      <td>11</td>\n",
       "      <td>9</td>\n",
       "    </tr>\n",
       "    <tr>\n",
       "      <th>1990</th>\n",
       "      <td>12</td>\n",
       "      <td>12</td>\n",
       "      <td>9</td>\n",
       "      <td>10</td>\n",
       "    </tr>\n",
       "    <tr>\n",
       "      <th>1991</th>\n",
       "      <td>12</td>\n",
       "      <td>12</td>\n",
       "      <td>9</td>\n",
       "      <td>9</td>\n",
       "    </tr>\n",
       "    <tr>\n",
       "      <th>1992</th>\n",
       "      <td>12</td>\n",
       "      <td>12</td>\n",
       "      <td>9</td>\n",
       "      <td>9</td>\n",
       "    </tr>\n",
       "    <tr>\n",
       "      <th>1993</th>\n",
       "      <td>12</td>\n",
       "      <td>12</td>\n",
       "      <td>10</td>\n",
       "      <td>9</td>\n",
       "    </tr>\n",
       "    <tr>\n",
       "      <th>1994</th>\n",
       "      <td>12</td>\n",
       "      <td>12</td>\n",
       "      <td>11</td>\n",
       "      <td>10</td>\n",
       "    </tr>\n",
       "    <tr>\n",
       "      <th>1995</th>\n",
       "      <td>12</td>\n",
       "      <td>12</td>\n",
       "      <td>1</td>\n",
       "      <td>8</td>\n",
       "    </tr>\n",
       "    <tr>\n",
       "      <th>1997</th>\n",
       "      <td>12</td>\n",
       "      <td>12</td>\n",
       "      <td>1</td>\n",
       "      <td>11</td>\n",
       "    </tr>\n",
       "    <tr>\n",
       "      <th>2000</th>\n",
       "      <td>12</td>\n",
       "      <td>12</td>\n",
       "      <td>1</td>\n",
       "      <td>11</td>\n",
       "    </tr>\n",
       "    <tr>\n",
       "      <th>2001</th>\n",
       "      <td>12</td>\n",
       "      <td>12</td>\n",
       "      <td>1</td>\n",
       "      <td>8</td>\n",
       "    </tr>\n",
       "    <tr>\n",
       "      <th>2002</th>\n",
       "      <td>12</td>\n",
       "      <td>12</td>\n",
       "      <td>2</td>\n",
       "      <td>9</td>\n",
       "    </tr>\n",
       "    <tr>\n",
       "      <th>2003</th>\n",
       "      <td>12</td>\n",
       "      <td>12</td>\n",
       "      <td>1</td>\n",
       "      <td>8</td>\n",
       "    </tr>\n",
       "    <tr>\n",
       "      <th>2004</th>\n",
       "      <td>12</td>\n",
       "      <td>12</td>\n",
       "      <td>2</td>\n",
       "      <td>10</td>\n",
       "    </tr>\n",
       "    <tr>\n",
       "      <th>2006</th>\n",
       "      <td>12</td>\n",
       "      <td>12</td>\n",
       "      <td>1</td>\n",
       "      <td>10</td>\n",
       "    </tr>\n",
       "    <tr>\n",
       "      <th>2007</th>\n",
       "      <td>12</td>\n",
       "      <td>12</td>\n",
       "      <td>1</td>\n",
       "      <td>10</td>\n",
       "    </tr>\n",
       "    <tr>\n",
       "      <th>2008</th>\n",
       "      <td>12</td>\n",
       "      <td>12</td>\n",
       "      <td>1</td>\n",
       "      <td>9</td>\n",
       "    </tr>\n",
       "    <tr>\n",
       "      <th>2009</th>\n",
       "      <td>12</td>\n",
       "      <td>12</td>\n",
       "      <td>1</td>\n",
       "      <td>11</td>\n",
       "    </tr>\n",
       "    <tr>\n",
       "      <th>2010</th>\n",
       "      <td>12</td>\n",
       "      <td>12</td>\n",
       "      <td>1</td>\n",
       "      <td>9</td>\n",
       "    </tr>\n",
       "    <tr>\n",
       "      <th>2011</th>\n",
       "      <td>12</td>\n",
       "      <td>12</td>\n",
       "      <td>12</td>\n",
       "      <td>11</td>\n",
       "    </tr>\n",
       "    <tr>\n",
       "      <th>2012</th>\n",
       "      <td>12</td>\n",
       "      <td>12</td>\n",
       "      <td>10</td>\n",
       "      <td>9</td>\n",
       "    </tr>\n",
       "    <tr>\n",
       "      <th>2013</th>\n",
       "      <td>12</td>\n",
       "      <td>12</td>\n",
       "      <td>12</td>\n",
       "      <td>11</td>\n",
       "    </tr>\n",
       "    <tr>\n",
       "      <th>2014</th>\n",
       "      <td>12</td>\n",
       "      <td>12</td>\n",
       "      <td>12</td>\n",
       "      <td>12</td>\n",
       "    </tr>\n",
       "    <tr>\n",
       "      <th>2015</th>\n",
       "      <td>12</td>\n",
       "      <td>12</td>\n",
       "      <td>12</td>\n",
       "      <td>12</td>\n",
       "    </tr>\n",
       "    <tr>\n",
       "      <th>2016</th>\n",
       "      <td>12</td>\n",
       "      <td>12</td>\n",
       "      <td>12</td>\n",
       "      <td>11</td>\n",
       "    </tr>\n",
       "  </tbody>\n",
       "</table>\n",
       "</div>"
      ],
      "text/plain": [
       "      Month  Total_Precipitation  Vapor_Pressure  Sunshine_Duration\n",
       "Year                                                               \n",
       "1978     12                   12               6                  4\n",
       "1979     12                   12               9                  4\n",
       "1980     12                   12               8                  8\n",
       "1981     12                   12               9                  8\n",
       "1982     12                   12              11                  9\n",
       "1983     12                   12              12                 11\n",
       "1984     12                   12              11                 12\n",
       "1985     12                   12               7                  8\n",
       "1986     12                   12               8                  7\n",
       "1987     12                   12               7                  8\n",
       "1988     12                   12              12                  9\n",
       "1989     12                   12              11                  9\n",
       "1990     12                   12               9                 10\n",
       "1991     12                   12               9                  9\n",
       "1992     12                   12               9                  9\n",
       "1993     12                   12              10                  9\n",
       "1994     12                   12              11                 10\n",
       "1995     12                   12               1                  8\n",
       "1997     12                   12               1                 11\n",
       "2000     12                   12               1                 11\n",
       "2001     12                   12               1                  8\n",
       "2002     12                   12               2                  9\n",
       "2003     12                   12               1                  8\n",
       "2004     12                   12               2                 10\n",
       "2006     12                   12               1                 10\n",
       "2007     12                   12               1                 10\n",
       "2008     12                   12               1                  9\n",
       "2009     12                   12               1                 11\n",
       "2010     12                   12               1                  9\n",
       "2011     12                   12              12                 11\n",
       "2012     12                   12              10                  9\n",
       "2013     12                   12              12                 11\n",
       "2014     12                   12              12                 12\n",
       "2015     12                   12              12                 12\n",
       "2016     12                   12              12                 11"
      ]
     },
     "execution_count": 11,
     "metadata": {},
     "output_type": "execute_result"
    }
   ],
   "source": [
    "combined_data.groupby('Year').count()"
   ]
  },
  {
   "cell_type": "markdown",
   "id": "3c7cded0-0a0f-4e19-9e22-9229a2656391",
   "metadata": {},
   "source": [
    "Answer the following questions using the new combined dataframe. Provide all code and also write your final answer in the markdown cell provided under the question. Round all results to 4 decimal places."
   ]
  },
  {
   "cell_type": "markdown",
   "id": "38ecf44c-051c-45aa-ac40-eb607031d05f",
   "metadata": {},
   "source": [
    "<font color = 'blue'>**Question 4:** What is the total monthly precipitation in the data?</font>"
   ]
  },
  {
   "cell_type": "markdown",
   "id": "5e79a923-bdca-4959-a160-483380507468",
   "metadata": {},
   "source": [
    "<font color = 'green'>Total precipitation is 23096 units.</font>"
   ]
  },
  {
   "cell_type": "code",
   "execution_count": 12,
   "id": "7b3614fa-d961-4923-83f4-7bd7173899d4",
   "metadata": {},
   "outputs": [
    {
     "data": {
      "text/plain": [
       "23096.0"
      ]
     },
     "execution_count": 12,
     "metadata": {},
     "output_type": "execute_result"
    }
   ],
   "source": [
    "# Performed a sum on the Total_Precipitation column\n",
    "combined_data['Total_Precipitation'].sum()"
   ]
  },
  {
   "cell_type": "markdown",
   "id": "c1a61838-7df5-4682-b286-a8b48994b7cb",
   "metadata": {},
   "source": [
    "<font color = 'blue'>**Question 5:** What is the average monthly vapor pressure in the data?</font>"
   ]
  },
  {
   "cell_type": "markdown",
   "id": "92712914-b065-4f41-a168-40a76839c1e2",
   "metadata": {},
   "source": [
    "<font color = 'green'>Average monthly vapor pressure is 29.8502 units.</font>"
   ]
  },
  {
   "cell_type": "code",
   "execution_count": 13,
   "id": "a2966b19-f19c-4173-a670-a9f2371ccd35",
   "metadata": {},
   "outputs": [
    {
     "data": {
      "text/plain": [
       "29.8502"
      ]
     },
     "execution_count": 13,
     "metadata": {},
     "output_type": "execute_result"
    }
   ],
   "source": [
    "# Performed a mean operation on the Vapor_Pressure column\n",
    "round(combined_data['Vapor_Pressure'].mean(),4)"
   ]
  },
  {
   "cell_type": "markdown",
   "id": "e9fbccd1-ee43-4ff6-a7fc-13c68799c331",
   "metadata": {},
   "source": [
    "<font color = 'blue'>**Question 6:** What is the mean monthly sunshine duration in the data?</font>"
   ]
  },
  {
   "cell_type": "markdown",
   "id": "8411c684-d5fa-439c-b15f-80eb1a1a1f8d",
   "metadata": {},
   "source": [
    "<font color = 'green'>The average monthly sunshine duration is 205 untis.</font>"
   ]
  },
  {
   "cell_type": "code",
   "execution_count": 14,
   "id": "dc85ae07-382b-4b46-9248-2316313a50db",
   "metadata": {},
   "outputs": [
    {
     "data": {
      "text/plain": [
       "205.0"
      ]
     },
     "execution_count": 14,
     "metadata": {},
     "output_type": "execute_result"
    }
   ],
   "source": [
    "# Performed a mean operation on the Sunshine_Duration column\n",
    "round(combined_data['Sunshine_Duration'].mean(),4)"
   ]
  },
  {
   "cell_type": "markdown",
   "id": "c0b92316-8b5c-4b7f-b731-c6c6bc42fe35",
   "metadata": {},
   "source": [
    "Handle missing values in the new dataframe using linear interpolation. Linear interpolation makes sense here because there may be a time trend in the data. So we want to fill missing values with values that would follow the trend. You should use the pandas `DataFrame.interpolate()` function for dataframes. Specify 'linear' as the `method` and 'both' as the `limit_direction` to perform the linear interpolation. Use the default values for the `limit`, `limit_area`, `downcast` and `**kwargs` arguments. Think about the mechanics of how to perform this interpolation to identify appropriate values for arguments. \n",
    "\n",
    "A key requirement for the interpolation to work correctly is that the dataframe on which the interpolate function is called should be sorted in ascending order by time. Make sure you sort the dataframe appropriately.\n",
    "\n",
    "Perform checks to ensure that the interpolation worked correctly."
   ]
  },
  {
   "cell_type": "code",
   "execution_count": 15,
   "id": "910e15e7-2dce-49c6-b701-9b400cb03637",
   "metadata": {},
   "outputs": [
    {
     "data": {
      "text/html": [
       "<div>\n",
       "<style scoped>\n",
       "    .dataframe tbody tr th:only-of-type {\n",
       "        vertical-align: middle;\n",
       "    }\n",
       "\n",
       "    .dataframe tbody tr th {\n",
       "        vertical-align: top;\n",
       "    }\n",
       "\n",
       "    .dataframe thead th {\n",
       "        text-align: right;\n",
       "    }\n",
       "</style>\n",
       "<table border=\"1\" class=\"dataframe\">\n",
       "  <thead>\n",
       "    <tr style=\"text-align: right;\">\n",
       "      <th></th>\n",
       "      <th>Year</th>\n",
       "      <th>Month</th>\n",
       "      <th>Total_Precipitation</th>\n",
       "      <th>Vapor_Pressure</th>\n",
       "      <th>Sunshine_Duration</th>\n",
       "      <th>Year-Month</th>\n",
       "    </tr>\n",
       "  </thead>\n",
       "  <tbody>\n",
       "    <tr>\n",
       "      <th>0</th>\n",
       "      <td>1978</td>\n",
       "      <td>January</td>\n",
       "      <td>62.0</td>\n",
       "      <td>28.1</td>\n",
       "      <td>NaN</td>\n",
       "      <td>1978-01</td>\n",
       "    </tr>\n",
       "    <tr>\n",
       "      <th>1</th>\n",
       "      <td>1978</td>\n",
       "      <td>February</td>\n",
       "      <td>25.0</td>\n",
       "      <td>NaN</td>\n",
       "      <td>NaN</td>\n",
       "      <td>1978-02</td>\n",
       "    </tr>\n",
       "    <tr>\n",
       "      <th>2</th>\n",
       "      <td>1978</td>\n",
       "      <td>March</td>\n",
       "      <td>45.0</td>\n",
       "      <td>28.1</td>\n",
       "      <td>257.0</td>\n",
       "      <td>1978-03</td>\n",
       "    </tr>\n",
       "    <tr>\n",
       "      <th>3</th>\n",
       "      <td>1978</td>\n",
       "      <td>April</td>\n",
       "      <td>32.0</td>\n",
       "      <td>26.4</td>\n",
       "      <td>NaN</td>\n",
       "      <td>1978-04</td>\n",
       "    </tr>\n",
       "    <tr>\n",
       "      <th>4</th>\n",
       "      <td>1978</td>\n",
       "      <td>May</td>\n",
       "      <td>77.0</td>\n",
       "      <td>NaN</td>\n",
       "      <td>NaN</td>\n",
       "      <td>1978-05</td>\n",
       "    </tr>\n",
       "    <tr>\n",
       "      <th>...</th>\n",
       "      <td>...</td>\n",
       "      <td>...</td>\n",
       "      <td>...</td>\n",
       "      <td>...</td>\n",
       "      <td>...</td>\n",
       "      <td>...</td>\n",
       "    </tr>\n",
       "    <tr>\n",
       "      <th>415</th>\n",
       "      <td>2016</td>\n",
       "      <td>August</td>\n",
       "      <td>56.0</td>\n",
       "      <td>30.9</td>\n",
       "      <td>224.0</td>\n",
       "      <td>2016-08</td>\n",
       "    </tr>\n",
       "    <tr>\n",
       "      <th>416</th>\n",
       "      <td>2016</td>\n",
       "      <td>September</td>\n",
       "      <td>123.0</td>\n",
       "      <td>30.3</td>\n",
       "      <td>175.0</td>\n",
       "      <td>2016-09</td>\n",
       "    </tr>\n",
       "    <tr>\n",
       "      <th>417</th>\n",
       "      <td>2016</td>\n",
       "      <td>October</td>\n",
       "      <td>75.0</td>\n",
       "      <td>30.6</td>\n",
       "      <td>187.0</td>\n",
       "      <td>2016-10</td>\n",
       "    </tr>\n",
       "    <tr>\n",
       "      <th>418</th>\n",
       "      <td>2016</td>\n",
       "      <td>November</td>\n",
       "      <td>103.0</td>\n",
       "      <td>29.9</td>\n",
       "      <td>201.0</td>\n",
       "      <td>2016-11</td>\n",
       "    </tr>\n",
       "    <tr>\n",
       "      <th>419</th>\n",
       "      <td>2016</td>\n",
       "      <td>December</td>\n",
       "      <td>63.0</td>\n",
       "      <td>29.9</td>\n",
       "      <td>229.0</td>\n",
       "      <td>2016-12</td>\n",
       "    </tr>\n",
       "  </tbody>\n",
       "</table>\n",
       "<p>420 rows × 6 columns</p>\n",
       "</div>"
      ],
      "text/plain": [
       "     Year      Month  Total_Precipitation  Vapor_Pressure  Sunshine_Duration  \\\n",
       "0    1978    January                 62.0            28.1                NaN   \n",
       "1    1978   February                 25.0             NaN                NaN   \n",
       "2    1978      March                 45.0            28.1              257.0   \n",
       "3    1978      April                 32.0            26.4                NaN   \n",
       "4    1978        May                 77.0             NaN                NaN   \n",
       "..    ...        ...                  ...             ...                ...   \n",
       "415  2016     August                 56.0            30.9              224.0   \n",
       "416  2016  September                123.0            30.3              175.0   \n",
       "417  2016    October                 75.0            30.6              187.0   \n",
       "418  2016   November                103.0            29.9              201.0   \n",
       "419  2016   December                 63.0            29.9              229.0   \n",
       "\n",
       "    Year-Month  \n",
       "0      1978-01  \n",
       "1      1978-02  \n",
       "2      1978-03  \n",
       "3      1978-04  \n",
       "4      1978-05  \n",
       "..         ...  \n",
       "415    2016-08  \n",
       "416    2016-09  \n",
       "417    2016-10  \n",
       "418    2016-11  \n",
       "419    2016-12  \n",
       "\n",
       "[420 rows x 6 columns]"
      ]
     },
     "execution_count": 15,
     "metadata": {},
     "output_type": "execute_result"
    }
   ],
   "source": [
    "# Created a column Year-Month using Year number and Month number to utilize for sorting chronologically\n",
    "from datetime import datetime\n",
    "combined_data['Year-Month'] = combined_data['Year'].astype(str) + \"-\" + pd.to_datetime(combined_data['Month'], format='%B').dt.strftime('%m').astype(str)\n",
    "combined_data.set_index('Year-Month', drop = False, inplace = True)\n",
    "combined_data.sort_index(inplace = True)\n",
    "combined_data.reset_index(drop = True, inplace = True)\n",
    "combined_data"
   ]
  },
  {
   "cell_type": "code",
   "execution_count": 16,
   "id": "89ead550-a41d-467d-945e-220ddfc886c9",
   "metadata": {},
   "outputs": [
    {
     "name": "stdout",
     "output_type": "stream",
     "text": [
      "<class 'pandas.core.frame.DataFrame'>\n",
      "RangeIndex: 420 entries, 0 to 419\n",
      "Data columns (total 6 columns):\n",
      " #   Column               Non-Null Count  Dtype  \n",
      "---  ------               --------------  -----  \n",
      " 0   Year                 420 non-null    int64  \n",
      " 1   Month                420 non-null    object \n",
      " 2   Total_Precipitation  420 non-null    float64\n",
      " 3   Vapor_Pressure       420 non-null    float64\n",
      " 4   Sunshine_Duration    420 non-null    float64\n",
      " 5   Year-Month           420 non-null    object \n",
      "dtypes: float64(3), int64(1), object(2)\n",
      "memory usage: 19.8+ KB\n"
     ]
    }
   ],
   "source": [
    "combined_interpolated = combined_data.interpolate(method = 'linear', limit_direction = 'both')\n",
    "combined_interpolated.info()"
   ]
  },
  {
   "cell_type": "code",
   "execution_count": 17,
   "id": "1b5081f7-8a19-48da-b582-a7aa524b80ee",
   "metadata": {},
   "outputs": [
    {
     "data": {
      "text/html": [
       "<div>\n",
       "<style scoped>\n",
       "    .dataframe tbody tr th:only-of-type {\n",
       "        vertical-align: middle;\n",
       "    }\n",
       "\n",
       "    .dataframe tbody tr th {\n",
       "        vertical-align: top;\n",
       "    }\n",
       "\n",
       "    .dataframe thead th {\n",
       "        text-align: right;\n",
       "    }\n",
       "</style>\n",
       "<table border=\"1\" class=\"dataframe\">\n",
       "  <thead>\n",
       "    <tr style=\"text-align: right;\">\n",
       "      <th></th>\n",
       "      <th>Year_x</th>\n",
       "      <th>Month_x</th>\n",
       "      <th>Total_Precipitation_x</th>\n",
       "      <th>Vapor_Pressure_x</th>\n",
       "      <th>Sunshine_Duration_x</th>\n",
       "      <th>Year-Month</th>\n",
       "      <th>Year_y</th>\n",
       "      <th>Month_y</th>\n",
       "      <th>Total_Precipitation_y</th>\n",
       "      <th>Vapor_Pressure_y</th>\n",
       "      <th>Sunshine_Duration_y</th>\n",
       "    </tr>\n",
       "  </thead>\n",
       "  <tbody>\n",
       "    <tr>\n",
       "      <th>12</th>\n",
       "      <td>1979</td>\n",
       "      <td>January</td>\n",
       "      <td>61.0</td>\n",
       "      <td>28.100000</td>\n",
       "      <td>253.000000</td>\n",
       "      <td>1979-01</td>\n",
       "      <td>1979</td>\n",
       "      <td>January</td>\n",
       "      <td>61.0</td>\n",
       "      <td>28.1</td>\n",
       "      <td>253.0</td>\n",
       "    </tr>\n",
       "    <tr>\n",
       "      <th>13</th>\n",
       "      <td>1979</td>\n",
       "      <td>February</td>\n",
       "      <td>64.0</td>\n",
       "      <td>28.666667</td>\n",
       "      <td>244.666667</td>\n",
       "      <td>1979-02</td>\n",
       "      <td>1979</td>\n",
       "      <td>February</td>\n",
       "      <td>64.0</td>\n",
       "      <td>NaN</td>\n",
       "      <td>NaN</td>\n",
       "    </tr>\n",
       "    <tr>\n",
       "      <th>14</th>\n",
       "      <td>1979</td>\n",
       "      <td>March</td>\n",
       "      <td>88.0</td>\n",
       "      <td>29.233333</td>\n",
       "      <td>236.333333</td>\n",
       "      <td>1979-03</td>\n",
       "      <td>1979</td>\n",
       "      <td>March</td>\n",
       "      <td>88.0</td>\n",
       "      <td>NaN</td>\n",
       "      <td>NaN</td>\n",
       "    </tr>\n",
       "    <tr>\n",
       "      <th>15</th>\n",
       "      <td>1979</td>\n",
       "      <td>April</td>\n",
       "      <td>18.0</td>\n",
       "      <td>29.800000</td>\n",
       "      <td>228.000000</td>\n",
       "      <td>1979-04</td>\n",
       "      <td>1979</td>\n",
       "      <td>April</td>\n",
       "      <td>18.0</td>\n",
       "      <td>29.8</td>\n",
       "      <td>228.0</td>\n",
       "    </tr>\n",
       "    <tr>\n",
       "      <th>16</th>\n",
       "      <td>1979</td>\n",
       "      <td>May</td>\n",
       "      <td>43.0</td>\n",
       "      <td>29.800000</td>\n",
       "      <td>207.000000</td>\n",
       "      <td>1979-05</td>\n",
       "      <td>1979</td>\n",
       "      <td>May</td>\n",
       "      <td>43.0</td>\n",
       "      <td>29.8</td>\n",
       "      <td>207.0</td>\n",
       "    </tr>\n",
       "    <tr>\n",
       "      <th>17</th>\n",
       "      <td>1979</td>\n",
       "      <td>June</td>\n",
       "      <td>42.0</td>\n",
       "      <td>29.800000</td>\n",
       "      <td>188.000000</td>\n",
       "      <td>1979-06</td>\n",
       "      <td>1979</td>\n",
       "      <td>June</td>\n",
       "      <td>42.0</td>\n",
       "      <td>29.8</td>\n",
       "      <td>NaN</td>\n",
       "    </tr>\n",
       "    <tr>\n",
       "      <th>18</th>\n",
       "      <td>1979</td>\n",
       "      <td>July</td>\n",
       "      <td>81.0</td>\n",
       "      <td>29.800000</td>\n",
       "      <td>169.000000</td>\n",
       "      <td>1979-07</td>\n",
       "      <td>1979</td>\n",
       "      <td>July</td>\n",
       "      <td>81.0</td>\n",
       "      <td>29.8</td>\n",
       "      <td>169.0</td>\n",
       "    </tr>\n",
       "    <tr>\n",
       "      <th>19</th>\n",
       "      <td>1979</td>\n",
       "      <td>August</td>\n",
       "      <td>52.0</td>\n",
       "      <td>29.800000</td>\n",
       "      <td>177.714286</td>\n",
       "      <td>1979-08</td>\n",
       "      <td>1979</td>\n",
       "      <td>August</td>\n",
       "      <td>52.0</td>\n",
       "      <td>29.8</td>\n",
       "      <td>NaN</td>\n",
       "    </tr>\n",
       "    <tr>\n",
       "      <th>20</th>\n",
       "      <td>1979</td>\n",
       "      <td>September</td>\n",
       "      <td>200.0</td>\n",
       "      <td>29.800000</td>\n",
       "      <td>186.428571</td>\n",
       "      <td>1979-09</td>\n",
       "      <td>1979</td>\n",
       "      <td>September</td>\n",
       "      <td>200.0</td>\n",
       "      <td>29.8</td>\n",
       "      <td>NaN</td>\n",
       "    </tr>\n",
       "    <tr>\n",
       "      <th>21</th>\n",
       "      <td>1979</td>\n",
       "      <td>October</td>\n",
       "      <td>33.0</td>\n",
       "      <td>29.800000</td>\n",
       "      <td>195.142857</td>\n",
       "      <td>1979-10</td>\n",
       "      <td>1979</td>\n",
       "      <td>October</td>\n",
       "      <td>33.0</td>\n",
       "      <td>29.8</td>\n",
       "      <td>NaN</td>\n",
       "    </tr>\n",
       "    <tr>\n",
       "      <th>22</th>\n",
       "      <td>1979</td>\n",
       "      <td>November</td>\n",
       "      <td>85.0</td>\n",
       "      <td>29.800000</td>\n",
       "      <td>203.857143</td>\n",
       "      <td>1979-11</td>\n",
       "      <td>1979</td>\n",
       "      <td>November</td>\n",
       "      <td>85.0</td>\n",
       "      <td>29.8</td>\n",
       "      <td>NaN</td>\n",
       "    </tr>\n",
       "    <tr>\n",
       "      <th>23</th>\n",
       "      <td>1979</td>\n",
       "      <td>December</td>\n",
       "      <td>39.0</td>\n",
       "      <td>29.266667</td>\n",
       "      <td>212.571429</td>\n",
       "      <td>1979-12</td>\n",
       "      <td>1979</td>\n",
       "      <td>December</td>\n",
       "      <td>39.0</td>\n",
       "      <td>NaN</td>\n",
       "      <td>NaN</td>\n",
       "    </tr>\n",
       "  </tbody>\n",
       "</table>\n",
       "</div>"
      ],
      "text/plain": [
       "    Year_x    Month_x  Total_Precipitation_x  Vapor_Pressure_x  \\\n",
       "12    1979    January                   61.0         28.100000   \n",
       "13    1979   February                   64.0         28.666667   \n",
       "14    1979      March                   88.0         29.233333   \n",
       "15    1979      April                   18.0         29.800000   \n",
       "16    1979        May                   43.0         29.800000   \n",
       "17    1979       June                   42.0         29.800000   \n",
       "18    1979       July                   81.0         29.800000   \n",
       "19    1979     August                   52.0         29.800000   \n",
       "20    1979  September                  200.0         29.800000   \n",
       "21    1979    October                   33.0         29.800000   \n",
       "22    1979   November                   85.0         29.800000   \n",
       "23    1979   December                   39.0         29.266667   \n",
       "\n",
       "    Sunshine_Duration_x Year-Month  Year_y    Month_y  Total_Precipitation_y  \\\n",
       "12           253.000000    1979-01    1979    January                   61.0   \n",
       "13           244.666667    1979-02    1979   February                   64.0   \n",
       "14           236.333333    1979-03    1979      March                   88.0   \n",
       "15           228.000000    1979-04    1979      April                   18.0   \n",
       "16           207.000000    1979-05    1979        May                   43.0   \n",
       "17           188.000000    1979-06    1979       June                   42.0   \n",
       "18           169.000000    1979-07    1979       July                   81.0   \n",
       "19           177.714286    1979-08    1979     August                   52.0   \n",
       "20           186.428571    1979-09    1979  September                  200.0   \n",
       "21           195.142857    1979-10    1979    October                   33.0   \n",
       "22           203.857143    1979-11    1979   November                   85.0   \n",
       "23           212.571429    1979-12    1979   December                   39.0   \n",
       "\n",
       "    Vapor_Pressure_y  Sunshine_Duration_y  \n",
       "12              28.1                253.0  \n",
       "13               NaN                  NaN  \n",
       "14               NaN                  NaN  \n",
       "15              29.8                228.0  \n",
       "16              29.8                207.0  \n",
       "17              29.8                  NaN  \n",
       "18              29.8                169.0  \n",
       "19              29.8                  NaN  \n",
       "20              29.8                  NaN  \n",
       "21              29.8                  NaN  \n",
       "22              29.8                  NaN  \n",
       "23               NaN                  NaN  "
      ]
     },
     "execution_count": 17,
     "metadata": {},
     "output_type": "execute_result"
    }
   ],
   "source": [
    "check = combined_interpolated.merge(combined_data, 'inner', left_on = 'Year-Month', right_on = 'Year-Month')\n",
    "check[check['Year_x']==1979]"
   ]
  },
  {
   "cell_type": "markdown",
   "id": "a701b413-6c52-4d8a-88ca-5e56c2a6fce1",
   "metadata": {},
   "source": [
    "<font color = 'green'>The interpolation filled the missing values by linearly interpolating between the existing values like 1979 June Sunshine_Duration is calculated by taking the neighbouring non null values, i.e., 1979 May and July Sunshine_Duration (June = (May_Value + July_Value)/2). If there are more than one null values, the closest non null values are taking and all the nulls are calculated by similiar linear interpolation.</font>"
   ]
  },
  {
   "cell_type": "markdown",
   "id": "258864ee-b5d6-4ab7-be40-78167fcfeb58",
   "metadata": {},
   "source": [
    "Using the dataframe with interpolated values, answer the following questions. Round all results to 4 decimal places."
   ]
  },
  {
   "cell_type": "markdown",
   "id": "3b6dbdf6-fe04-478b-8c17-b4437bcc1e2d",
   "metadata": {},
   "source": [
    "<font color = 'blue'>**Question 7:** What is the total monthly precipitation in the data?</font>"
   ]
  },
  {
   "cell_type": "markdown",
   "id": "8a19c702-6e9a-4312-8474-6fff370b6e60",
   "metadata": {},
   "source": [
    "<font color = 'green'>Total precipitation is 23096 units. There were no null values in Total_Precipitation column before interpolation as well.</font>"
   ]
  },
  {
   "cell_type": "code",
   "execution_count": 18,
   "id": "ae37bf00-ac8b-461e-ae23-b62e20a301de",
   "metadata": {},
   "outputs": [
    {
     "data": {
      "text/plain": [
       "23096.0"
      ]
     },
     "execution_count": 18,
     "metadata": {},
     "output_type": "execute_result"
    }
   ],
   "source": [
    "# Performed a sum on the Total_Precipitation column\n",
    "combined_interpolated['Total_Precipitation'].sum()"
   ]
  },
  {
   "cell_type": "markdown",
   "id": "de3bbe85-7f0f-42f9-b52a-64e590b16206",
   "metadata": {},
   "source": [
    "<font color = 'blue'>**Question 8:** What is the average vapor pressure in the data?</font>"
   ]
  },
  {
   "cell_type": "markdown",
   "id": "530635a1-fd74-4887-8e18-532005e26a3a",
   "metadata": {},
   "source": [
    "<font color = 'green'>Average monthly vapor pressure is 29.6506 units.</font>"
   ]
  },
  {
   "cell_type": "code",
   "execution_count": 19,
   "id": "0c60ed3f-d9c0-4afd-af6d-4249a18b6b7f",
   "metadata": {},
   "outputs": [
    {
     "data": {
      "text/plain": [
       "29.6506"
      ]
     },
     "execution_count": 19,
     "metadata": {},
     "output_type": "execute_result"
    }
   ],
   "source": [
    "# Performed a mean operation on the Vapor_Pressure column\n",
    "round(combined_interpolated['Vapor_Pressure'].mean(),4)"
   ]
  },
  {
   "cell_type": "markdown",
   "id": "6f78f05b-0025-489f-bff5-9fff1930c575",
   "metadata": {},
   "source": [
    "<font color = 'blue'>**Question 9:** What is the mean sunshine duration in the data?</font>"
   ]
  },
  {
   "cell_type": "markdown",
   "id": "98242693-3181-4faa-b9d3-d0bb17a92abb",
   "metadata": {},
   "source": [
    "<font color = 'green'>The average monthly sunshine duration is 204.044 untis.</font>"
   ]
  },
  {
   "cell_type": "code",
   "execution_count": 20,
   "id": "13a50f29-fa66-4a4e-a023-2c678eb84694",
   "metadata": {
    "tags": []
   },
   "outputs": [
    {
     "data": {
      "text/plain": [
       "204.044"
      ]
     },
     "execution_count": 20,
     "metadata": {},
     "output_type": "execute_result"
    }
   ],
   "source": [
    "# Performed a mean operation on the Sunshine_Duration column\n",
    "round(combined_interpolated['Sunshine_Duration'].mean(),4)"
   ]
  },
  {
   "cell_type": "markdown",
   "id": "3cd271b9-99ef-468a-9b7c-a4ebfd797bd9",
   "metadata": {},
   "source": [
    "## Computations"
   ]
  },
  {
   "cell_type": "markdown",
   "id": "d5ca0078-ef33-4c35-96f1-97d2cf6e19ba",
   "metadata": {},
   "source": [
    "The demand for certain products is weather dependent. We will simulate such a scenario here using the climate data that you have compiled so far. Use the latest dataframe that combines all three measurements (precipiation, vapor pressure and sunshine duration) and has interpolated values instead of missing values for this section. "
   ]
  },
  {
   "cell_type": "markdown",
   "id": "fb77fa60-a3ea-41c4-81f3-0cda336e009c",
   "metadata": {},
   "source": [
    "An analyst has developed a demand forecasting model that incorporates the climate data. Their analysis shows that there was a significant shift in customer behavior in the year 2000. As a result, they created two demand forecasting models - one that applies to years before 2000 and one that applies to year 2000 and after."
   ]
  },
  {
   "cell_type": "markdown",
   "id": "b49e0876-f3fb-470e-ac0e-1ac6f8f673ce",
   "metadata": {},
   "source": [
    "**Before 2000:** $ \\text{forecasted demand} = 1000 - 10.5 * \\text{total precipitation} + 1.009 * \\text{sunshine duration} $\n",
    "\n",
    "\n",
    "**2000 and after:** $ \\text{forecasted demand} = 1000 - 10.5 * \\text{total precipitation} + 1.19 * \\text{sunshine duration} $"
   ]
  },
  {
   "cell_type": "markdown",
   "id": "0e26875a-a3bd-4d5f-88e1-f17bb53d31a9",
   "metadata": {},
   "source": [
    "Add a Demand_Forecast column to the dataframe and caclulate the forecasted demand using the above formulas. Note that it is theoretically possible for the result of the above equations to be negative. However the demand for a product cannot be negative. Ensure that when you calculate the forecasted demand, any negative values are converted to zeros. "
   ]
  },
  {
   "cell_type": "code",
   "execution_count": 21,
   "id": "81add4ad-9c19-4715-9be8-979674c8a7b6",
   "metadata": {},
   "outputs": [
    {
     "data": {
      "text/html": [
       "<div>\n",
       "<style scoped>\n",
       "    .dataframe tbody tr th:only-of-type {\n",
       "        vertical-align: middle;\n",
       "    }\n",
       "\n",
       "    .dataframe tbody tr th {\n",
       "        vertical-align: top;\n",
       "    }\n",
       "\n",
       "    .dataframe thead th {\n",
       "        text-align: right;\n",
       "    }\n",
       "</style>\n",
       "<table border=\"1\" class=\"dataframe\">\n",
       "  <thead>\n",
       "    <tr style=\"text-align: right;\">\n",
       "      <th></th>\n",
       "      <th>Year</th>\n",
       "      <th>Month</th>\n",
       "      <th>Total_Precipitation</th>\n",
       "      <th>Vapor_Pressure</th>\n",
       "      <th>Sunshine_Duration</th>\n",
       "      <th>Year-Month</th>\n",
       "      <th>Demand_Forecast</th>\n",
       "    </tr>\n",
       "  </thead>\n",
       "  <tbody>\n",
       "    <tr>\n",
       "      <th>0</th>\n",
       "      <td>1978</td>\n",
       "      <td>January</td>\n",
       "      <td>62.0</td>\n",
       "      <td>28.100000</td>\n",
       "      <td>257.0</td>\n",
       "      <td>1978-01</td>\n",
       "      <td>608.3130</td>\n",
       "    </tr>\n",
       "    <tr>\n",
       "      <th>1</th>\n",
       "      <td>1978</td>\n",
       "      <td>February</td>\n",
       "      <td>25.0</td>\n",
       "      <td>28.100000</td>\n",
       "      <td>257.0</td>\n",
       "      <td>1978-02</td>\n",
       "      <td>996.8130</td>\n",
       "    </tr>\n",
       "    <tr>\n",
       "      <th>2</th>\n",
       "      <td>1978</td>\n",
       "      <td>March</td>\n",
       "      <td>45.0</td>\n",
       "      <td>28.100000</td>\n",
       "      <td>257.0</td>\n",
       "      <td>1978-03</td>\n",
       "      <td>786.8130</td>\n",
       "    </tr>\n",
       "    <tr>\n",
       "      <th>3</th>\n",
       "      <td>1978</td>\n",
       "      <td>April</td>\n",
       "      <td>32.0</td>\n",
       "      <td>26.400000</td>\n",
       "      <td>239.6</td>\n",
       "      <td>1978-04</td>\n",
       "      <td>905.7564</td>\n",
       "    </tr>\n",
       "    <tr>\n",
       "      <th>4</th>\n",
       "      <td>1978</td>\n",
       "      <td>May</td>\n",
       "      <td>77.0</td>\n",
       "      <td>26.683333</td>\n",
       "      <td>222.2</td>\n",
       "      <td>1978-05</td>\n",
       "      <td>415.6998</td>\n",
       "    </tr>\n",
       "    <tr>\n",
       "      <th>...</th>\n",
       "      <td>...</td>\n",
       "      <td>...</td>\n",
       "      <td>...</td>\n",
       "      <td>...</td>\n",
       "      <td>...</td>\n",
       "      <td>...</td>\n",
       "      <td>...</td>\n",
       "    </tr>\n",
       "    <tr>\n",
       "      <th>415</th>\n",
       "      <td>2016</td>\n",
       "      <td>August</td>\n",
       "      <td>56.0</td>\n",
       "      <td>30.900000</td>\n",
       "      <td>224.0</td>\n",
       "      <td>2016-08</td>\n",
       "      <td>678.5600</td>\n",
       "    </tr>\n",
       "    <tr>\n",
       "      <th>416</th>\n",
       "      <td>2016</td>\n",
       "      <td>September</td>\n",
       "      <td>123.0</td>\n",
       "      <td>30.300000</td>\n",
       "      <td>175.0</td>\n",
       "      <td>2016-09</td>\n",
       "      <td>0.0000</td>\n",
       "    </tr>\n",
       "    <tr>\n",
       "      <th>417</th>\n",
       "      <td>2016</td>\n",
       "      <td>October</td>\n",
       "      <td>75.0</td>\n",
       "      <td>30.600000</td>\n",
       "      <td>187.0</td>\n",
       "      <td>2016-10</td>\n",
       "      <td>435.0300</td>\n",
       "    </tr>\n",
       "    <tr>\n",
       "      <th>418</th>\n",
       "      <td>2016</td>\n",
       "      <td>November</td>\n",
       "      <td>103.0</td>\n",
       "      <td>29.900000</td>\n",
       "      <td>201.0</td>\n",
       "      <td>2016-11</td>\n",
       "      <td>157.6900</td>\n",
       "    </tr>\n",
       "    <tr>\n",
       "      <th>419</th>\n",
       "      <td>2016</td>\n",
       "      <td>December</td>\n",
       "      <td>63.0</td>\n",
       "      <td>29.900000</td>\n",
       "      <td>229.0</td>\n",
       "      <td>2016-12</td>\n",
       "      <td>611.0100</td>\n",
       "    </tr>\n",
       "  </tbody>\n",
       "</table>\n",
       "<p>420 rows × 7 columns</p>\n",
       "</div>"
      ],
      "text/plain": [
       "     Year      Month  Total_Precipitation  Vapor_Pressure  Sunshine_Duration  \\\n",
       "0    1978    January                 62.0       28.100000              257.0   \n",
       "1    1978   February                 25.0       28.100000              257.0   \n",
       "2    1978      March                 45.0       28.100000              257.0   \n",
       "3    1978      April                 32.0       26.400000              239.6   \n",
       "4    1978        May                 77.0       26.683333              222.2   \n",
       "..    ...        ...                  ...             ...                ...   \n",
       "415  2016     August                 56.0       30.900000              224.0   \n",
       "416  2016  September                123.0       30.300000              175.0   \n",
       "417  2016    October                 75.0       30.600000              187.0   \n",
       "418  2016   November                103.0       29.900000              201.0   \n",
       "419  2016   December                 63.0       29.900000              229.0   \n",
       "\n",
       "    Year-Month  Demand_Forecast  \n",
       "0      1978-01         608.3130  \n",
       "1      1978-02         996.8130  \n",
       "2      1978-03         786.8130  \n",
       "3      1978-04         905.7564  \n",
       "4      1978-05         415.6998  \n",
       "..         ...              ...  \n",
       "415    2016-08         678.5600  \n",
       "416    2016-09           0.0000  \n",
       "417    2016-10         435.0300  \n",
       "418    2016-11         157.6900  \n",
       "419    2016-12         611.0100  \n",
       "\n",
       "[420 rows x 7 columns]"
      ]
     },
     "execution_count": 21,
     "metadata": {},
     "output_type": "execute_result"
    }
   ],
   "source": [
    "# Conditional statement for Demand Forecast and treating negative values\n",
    "import numpy as np\n",
    "combined_interpolated['Demand_Forecast'] = np.where(combined_interpolated['Year']<2000, 1000 - 10.5*combined_interpolated['Total_Precipitation'] + 1.009*combined_interpolated['Sunshine_Duration'], 1000 - 10.5*combined_interpolated['Total_Precipitation'] + 1.19*combined_interpolated['Sunshine_Duration'])\n",
    "combined_interpolated['Demand_Forecast'] = np.where(combined_interpolated['Demand_Forecast']<=0 , 0, combined_interpolated['Demand_Forecast'])\n",
    "combined_interpolated"
   ]
  },
  {
   "cell_type": "markdown",
   "id": "bdb6fe2d-a177-4b16-8734-83feb6352d9c",
   "metadata": {},
   "source": [
    "Answer the following questions using the dataframe that contains forecasted demand values. Round all results to 4 decimal places."
   ]
  },
  {
   "cell_type": "markdown",
   "id": "951b4235-8209-45bd-86e8-eab57b38c08a",
   "metadata": {},
   "source": [
    "<font color = 'blue'>**Question 10:** What is the average forecasted demand?</font>"
   ]
  },
  {
   "cell_type": "markdown",
   "id": "173fb1e1-4ced-42ca-930d-a7dc4ceb7cb0",
   "metadata": {},
   "source": [
    "<font color = 'green'>The average forecasted demand is 654.6923 units.</font>"
   ]
  },
  {
   "cell_type": "code",
   "execution_count": 22,
   "id": "6a960871-5577-4c2f-bc2c-0bfa09bd7633",
   "metadata": {
    "tags": []
   },
   "outputs": [
    {
     "data": {
      "text/plain": [
       "654.6923"
      ]
     },
     "execution_count": 22,
     "metadata": {},
     "output_type": "execute_result"
    }
   ],
   "source": [
    "# Performed a mean operation on the Demand_Forecasted column which was prepared using the conditional statements\n",
    "round(combined_interpolated['Demand_Forecast'].mean(),4)"
   ]
  },
  {
   "cell_type": "markdown",
   "id": "0d5349b0-0ab4-4912-aec8-33d67b7a5af0",
   "metadata": {},
   "source": [
    "<font color = 'blue'>**Question 11:** What is the average forecasted demand for 2011?</font>"
   ]
  },
  {
   "cell_type": "markdown",
   "id": "1c16f059-8b33-48b6-8ee7-b0939e794d0a",
   "metadata": {},
   "source": [
    "<font color = 'green'>The average forecasted demand for 2011 is 501.5829 units.</font>"
   ]
  },
  {
   "cell_type": "code",
   "execution_count": 23,
   "id": "23471dce-1b37-425f-b8ed-499cd9325a67",
   "metadata": {
    "tags": []
   },
   "outputs": [
    {
     "data": {
      "text/plain": [
       "501.5829"
      ]
     },
     "execution_count": 23,
     "metadata": {},
     "output_type": "execute_result"
    }
   ],
   "source": [
    "# Sliced the data for 2011 and performed a mean aggregation function on the Demand_Forecasted column\n",
    "round(combined_interpolated[combined_interpolated['Year']== 2011]['Demand_Forecast'].mean(),4)"
   ]
  },
  {
   "cell_type": "markdown",
   "id": "76f979da-3fa1-4171-9e00-61773b61b5a9",
   "metadata": {},
   "source": [
    "Typically future demand for a product is uncertain. The uncertainty of demand is captured by the standard deviation. The forecasting models discussed above provide an estimate of the standard deviation as well. Create a new column called StdDev_Demand and assign standard deviation values as follows. The standard deviation of demand for all years before 2000 should be 20. The standard deviation of demand for years 2000 or later should be 30."
   ]
  },
  {
   "cell_type": "code",
   "execution_count": 24,
   "id": "97f08fb9-6a20-4053-812e-638923958bca",
   "metadata": {
    "tags": []
   },
   "outputs": [
    {
     "data": {
      "text/html": [
       "<div>\n",
       "<style scoped>\n",
       "    .dataframe tbody tr th:only-of-type {\n",
       "        vertical-align: middle;\n",
       "    }\n",
       "\n",
       "    .dataframe tbody tr th {\n",
       "        vertical-align: top;\n",
       "    }\n",
       "\n",
       "    .dataframe thead th {\n",
       "        text-align: right;\n",
       "    }\n",
       "</style>\n",
       "<table border=\"1\" class=\"dataframe\">\n",
       "  <thead>\n",
       "    <tr style=\"text-align: right;\">\n",
       "      <th></th>\n",
       "      <th>Year</th>\n",
       "      <th>Month</th>\n",
       "      <th>Total_Precipitation</th>\n",
       "      <th>Vapor_Pressure</th>\n",
       "      <th>Sunshine_Duration</th>\n",
       "      <th>Year-Month</th>\n",
       "      <th>Demand_Forecast</th>\n",
       "      <th>StdDev_Demand</th>\n",
       "    </tr>\n",
       "  </thead>\n",
       "  <tbody>\n",
       "    <tr>\n",
       "      <th>0</th>\n",
       "      <td>1978</td>\n",
       "      <td>January</td>\n",
       "      <td>62.0</td>\n",
       "      <td>28.100000</td>\n",
       "      <td>257.0</td>\n",
       "      <td>1978-01</td>\n",
       "      <td>608.3130</td>\n",
       "      <td>20</td>\n",
       "    </tr>\n",
       "    <tr>\n",
       "      <th>1</th>\n",
       "      <td>1978</td>\n",
       "      <td>February</td>\n",
       "      <td>25.0</td>\n",
       "      <td>28.100000</td>\n",
       "      <td>257.0</td>\n",
       "      <td>1978-02</td>\n",
       "      <td>996.8130</td>\n",
       "      <td>20</td>\n",
       "    </tr>\n",
       "    <tr>\n",
       "      <th>2</th>\n",
       "      <td>1978</td>\n",
       "      <td>March</td>\n",
       "      <td>45.0</td>\n",
       "      <td>28.100000</td>\n",
       "      <td>257.0</td>\n",
       "      <td>1978-03</td>\n",
       "      <td>786.8130</td>\n",
       "      <td>20</td>\n",
       "    </tr>\n",
       "    <tr>\n",
       "      <th>3</th>\n",
       "      <td>1978</td>\n",
       "      <td>April</td>\n",
       "      <td>32.0</td>\n",
       "      <td>26.400000</td>\n",
       "      <td>239.6</td>\n",
       "      <td>1978-04</td>\n",
       "      <td>905.7564</td>\n",
       "      <td>20</td>\n",
       "    </tr>\n",
       "    <tr>\n",
       "      <th>4</th>\n",
       "      <td>1978</td>\n",
       "      <td>May</td>\n",
       "      <td>77.0</td>\n",
       "      <td>26.683333</td>\n",
       "      <td>222.2</td>\n",
       "      <td>1978-05</td>\n",
       "      <td>415.6998</td>\n",
       "      <td>20</td>\n",
       "    </tr>\n",
       "    <tr>\n",
       "      <th>...</th>\n",
       "      <td>...</td>\n",
       "      <td>...</td>\n",
       "      <td>...</td>\n",
       "      <td>...</td>\n",
       "      <td>...</td>\n",
       "      <td>...</td>\n",
       "      <td>...</td>\n",
       "      <td>...</td>\n",
       "    </tr>\n",
       "    <tr>\n",
       "      <th>415</th>\n",
       "      <td>2016</td>\n",
       "      <td>August</td>\n",
       "      <td>56.0</td>\n",
       "      <td>30.900000</td>\n",
       "      <td>224.0</td>\n",
       "      <td>2016-08</td>\n",
       "      <td>678.5600</td>\n",
       "      <td>30</td>\n",
       "    </tr>\n",
       "    <tr>\n",
       "      <th>416</th>\n",
       "      <td>2016</td>\n",
       "      <td>September</td>\n",
       "      <td>123.0</td>\n",
       "      <td>30.300000</td>\n",
       "      <td>175.0</td>\n",
       "      <td>2016-09</td>\n",
       "      <td>0.0000</td>\n",
       "      <td>30</td>\n",
       "    </tr>\n",
       "    <tr>\n",
       "      <th>417</th>\n",
       "      <td>2016</td>\n",
       "      <td>October</td>\n",
       "      <td>75.0</td>\n",
       "      <td>30.600000</td>\n",
       "      <td>187.0</td>\n",
       "      <td>2016-10</td>\n",
       "      <td>435.0300</td>\n",
       "      <td>30</td>\n",
       "    </tr>\n",
       "    <tr>\n",
       "      <th>418</th>\n",
       "      <td>2016</td>\n",
       "      <td>November</td>\n",
       "      <td>103.0</td>\n",
       "      <td>29.900000</td>\n",
       "      <td>201.0</td>\n",
       "      <td>2016-11</td>\n",
       "      <td>157.6900</td>\n",
       "      <td>30</td>\n",
       "    </tr>\n",
       "    <tr>\n",
       "      <th>419</th>\n",
       "      <td>2016</td>\n",
       "      <td>December</td>\n",
       "      <td>63.0</td>\n",
       "      <td>29.900000</td>\n",
       "      <td>229.0</td>\n",
       "      <td>2016-12</td>\n",
       "      <td>611.0100</td>\n",
       "      <td>30</td>\n",
       "    </tr>\n",
       "  </tbody>\n",
       "</table>\n",
       "<p>420 rows × 8 columns</p>\n",
       "</div>"
      ],
      "text/plain": [
       "     Year      Month  Total_Precipitation  Vapor_Pressure  Sunshine_Duration  \\\n",
       "0    1978    January                 62.0       28.100000              257.0   \n",
       "1    1978   February                 25.0       28.100000              257.0   \n",
       "2    1978      March                 45.0       28.100000              257.0   \n",
       "3    1978      April                 32.0       26.400000              239.6   \n",
       "4    1978        May                 77.0       26.683333              222.2   \n",
       "..    ...        ...                  ...             ...                ...   \n",
       "415  2016     August                 56.0       30.900000              224.0   \n",
       "416  2016  September                123.0       30.300000              175.0   \n",
       "417  2016    October                 75.0       30.600000              187.0   \n",
       "418  2016   November                103.0       29.900000              201.0   \n",
       "419  2016   December                 63.0       29.900000              229.0   \n",
       "\n",
       "    Year-Month  Demand_Forecast  StdDev_Demand  \n",
       "0      1978-01         608.3130             20  \n",
       "1      1978-02         996.8130             20  \n",
       "2      1978-03         786.8130             20  \n",
       "3      1978-04         905.7564             20  \n",
       "4      1978-05         415.6998             20  \n",
       "..         ...              ...            ...  \n",
       "415    2016-08         678.5600             30  \n",
       "416    2016-09           0.0000             30  \n",
       "417    2016-10         435.0300             30  \n",
       "418    2016-11         157.6900             30  \n",
       "419    2016-12         611.0100             30  \n",
       "\n",
       "[420 rows x 8 columns]"
      ]
     },
     "execution_count": 24,
     "metadata": {},
     "output_type": "execute_result"
    }
   ],
   "source": [
    "# Used conditional function for creating Standard Deviation of Demand \n",
    "combined_interpolated['StdDev_Demand'] = np.where(combined_interpolated['Year']<2000 , 20, 30)\n",
    "combined_interpolated"
   ]
  },
  {
   "cell_type": "markdown",
   "id": "ea116430-053b-488e-9516-32662876fb18",
   "metadata": {},
   "source": [
    "When the demand for a product is uncertain, the stocking quantity (quantity to produce or buy from a supplier) depends on the proability distribution of demand. For normally distributed demand, the quantity can be calculated using the mean and standard deviation of demand and a safety stock multiplier. The demand forecast and standard deviations values that you generated earlier can be used as estimates of the mean and standard deviation of demand for a given month and year. Assuming a safety stock multiplier of 1.65, you can calculate the stocking quantity using the following formula. \n",
    "\n",
    "$\\text{Stocking Quantity} = \\text{Mean Demand} + 1.65 * \\text{Std Dev of Demand} $\n",
    "\n",
    "\n",
    "Create a 'Stocking_Quantity' column in the dataframe and calculate the stocking quantity for each row using the above formula."
   ]
  },
  {
   "cell_type": "code",
   "execution_count": 25,
   "id": "e24c7adf-56bf-423d-be27-9c6bebcb4e85",
   "metadata": {
    "tags": []
   },
   "outputs": [
    {
     "data": {
      "text/html": [
       "<div>\n",
       "<style scoped>\n",
       "    .dataframe tbody tr th:only-of-type {\n",
       "        vertical-align: middle;\n",
       "    }\n",
       "\n",
       "    .dataframe tbody tr th {\n",
       "        vertical-align: top;\n",
       "    }\n",
       "\n",
       "    .dataframe thead th {\n",
       "        text-align: right;\n",
       "    }\n",
       "</style>\n",
       "<table border=\"1\" class=\"dataframe\">\n",
       "  <thead>\n",
       "    <tr style=\"text-align: right;\">\n",
       "      <th></th>\n",
       "      <th>Year</th>\n",
       "      <th>Month</th>\n",
       "      <th>Total_Precipitation</th>\n",
       "      <th>Vapor_Pressure</th>\n",
       "      <th>Sunshine_Duration</th>\n",
       "      <th>Year-Month</th>\n",
       "      <th>Demand_Forecast</th>\n",
       "      <th>StdDev_Demand</th>\n",
       "      <th>Stocking_Quantity</th>\n",
       "    </tr>\n",
       "  </thead>\n",
       "  <tbody>\n",
       "    <tr>\n",
       "      <th>0</th>\n",
       "      <td>1978</td>\n",
       "      <td>January</td>\n",
       "      <td>62.0</td>\n",
       "      <td>28.100000</td>\n",
       "      <td>257.0</td>\n",
       "      <td>1978-01</td>\n",
       "      <td>608.3130</td>\n",
       "      <td>20</td>\n",
       "      <td>641.3130</td>\n",
       "    </tr>\n",
       "    <tr>\n",
       "      <th>1</th>\n",
       "      <td>1978</td>\n",
       "      <td>February</td>\n",
       "      <td>25.0</td>\n",
       "      <td>28.100000</td>\n",
       "      <td>257.0</td>\n",
       "      <td>1978-02</td>\n",
       "      <td>996.8130</td>\n",
       "      <td>20</td>\n",
       "      <td>1029.8130</td>\n",
       "    </tr>\n",
       "    <tr>\n",
       "      <th>2</th>\n",
       "      <td>1978</td>\n",
       "      <td>March</td>\n",
       "      <td>45.0</td>\n",
       "      <td>28.100000</td>\n",
       "      <td>257.0</td>\n",
       "      <td>1978-03</td>\n",
       "      <td>786.8130</td>\n",
       "      <td>20</td>\n",
       "      <td>819.8130</td>\n",
       "    </tr>\n",
       "    <tr>\n",
       "      <th>3</th>\n",
       "      <td>1978</td>\n",
       "      <td>April</td>\n",
       "      <td>32.0</td>\n",
       "      <td>26.400000</td>\n",
       "      <td>239.6</td>\n",
       "      <td>1978-04</td>\n",
       "      <td>905.7564</td>\n",
       "      <td>20</td>\n",
       "      <td>938.7564</td>\n",
       "    </tr>\n",
       "    <tr>\n",
       "      <th>4</th>\n",
       "      <td>1978</td>\n",
       "      <td>May</td>\n",
       "      <td>77.0</td>\n",
       "      <td>26.683333</td>\n",
       "      <td>222.2</td>\n",
       "      <td>1978-05</td>\n",
       "      <td>415.6998</td>\n",
       "      <td>20</td>\n",
       "      <td>448.6998</td>\n",
       "    </tr>\n",
       "    <tr>\n",
       "      <th>...</th>\n",
       "      <td>...</td>\n",
       "      <td>...</td>\n",
       "      <td>...</td>\n",
       "      <td>...</td>\n",
       "      <td>...</td>\n",
       "      <td>...</td>\n",
       "      <td>...</td>\n",
       "      <td>...</td>\n",
       "      <td>...</td>\n",
       "    </tr>\n",
       "    <tr>\n",
       "      <th>415</th>\n",
       "      <td>2016</td>\n",
       "      <td>August</td>\n",
       "      <td>56.0</td>\n",
       "      <td>30.900000</td>\n",
       "      <td>224.0</td>\n",
       "      <td>2016-08</td>\n",
       "      <td>678.5600</td>\n",
       "      <td>30</td>\n",
       "      <td>728.0600</td>\n",
       "    </tr>\n",
       "    <tr>\n",
       "      <th>416</th>\n",
       "      <td>2016</td>\n",
       "      <td>September</td>\n",
       "      <td>123.0</td>\n",
       "      <td>30.300000</td>\n",
       "      <td>175.0</td>\n",
       "      <td>2016-09</td>\n",
       "      <td>0.0000</td>\n",
       "      <td>30</td>\n",
       "      <td>49.5000</td>\n",
       "    </tr>\n",
       "    <tr>\n",
       "      <th>417</th>\n",
       "      <td>2016</td>\n",
       "      <td>October</td>\n",
       "      <td>75.0</td>\n",
       "      <td>30.600000</td>\n",
       "      <td>187.0</td>\n",
       "      <td>2016-10</td>\n",
       "      <td>435.0300</td>\n",
       "      <td>30</td>\n",
       "      <td>484.5300</td>\n",
       "    </tr>\n",
       "    <tr>\n",
       "      <th>418</th>\n",
       "      <td>2016</td>\n",
       "      <td>November</td>\n",
       "      <td>103.0</td>\n",
       "      <td>29.900000</td>\n",
       "      <td>201.0</td>\n",
       "      <td>2016-11</td>\n",
       "      <td>157.6900</td>\n",
       "      <td>30</td>\n",
       "      <td>207.1900</td>\n",
       "    </tr>\n",
       "    <tr>\n",
       "      <th>419</th>\n",
       "      <td>2016</td>\n",
       "      <td>December</td>\n",
       "      <td>63.0</td>\n",
       "      <td>29.900000</td>\n",
       "      <td>229.0</td>\n",
       "      <td>2016-12</td>\n",
       "      <td>611.0100</td>\n",
       "      <td>30</td>\n",
       "      <td>660.5100</td>\n",
       "    </tr>\n",
       "  </tbody>\n",
       "</table>\n",
       "<p>420 rows × 9 columns</p>\n",
       "</div>"
      ],
      "text/plain": [
       "     Year      Month  Total_Precipitation  Vapor_Pressure  Sunshine_Duration  \\\n",
       "0    1978    January                 62.0       28.100000              257.0   \n",
       "1    1978   February                 25.0       28.100000              257.0   \n",
       "2    1978      March                 45.0       28.100000              257.0   \n",
       "3    1978      April                 32.0       26.400000              239.6   \n",
       "4    1978        May                 77.0       26.683333              222.2   \n",
       "..    ...        ...                  ...             ...                ...   \n",
       "415  2016     August                 56.0       30.900000              224.0   \n",
       "416  2016  September                123.0       30.300000              175.0   \n",
       "417  2016    October                 75.0       30.600000              187.0   \n",
       "418  2016   November                103.0       29.900000              201.0   \n",
       "419  2016   December                 63.0       29.900000              229.0   \n",
       "\n",
       "    Year-Month  Demand_Forecast  StdDev_Demand  Stocking_Quantity  \n",
       "0      1978-01         608.3130             20           641.3130  \n",
       "1      1978-02         996.8130             20          1029.8130  \n",
       "2      1978-03         786.8130             20           819.8130  \n",
       "3      1978-04         905.7564             20           938.7564  \n",
       "4      1978-05         415.6998             20           448.6998  \n",
       "..         ...              ...            ...                ...  \n",
       "415    2016-08         678.5600             30           728.0600  \n",
       "416    2016-09           0.0000             30            49.5000  \n",
       "417    2016-10         435.0300             30           484.5300  \n",
       "418    2016-11         157.6900             30           207.1900  \n",
       "419    2016-12         611.0100             30           660.5100  \n",
       "\n",
       "[420 rows x 9 columns]"
      ]
     },
     "execution_count": 25,
     "metadata": {},
     "output_type": "execute_result"
    }
   ],
   "source": [
    "# Created the Stocking_Quantity column using the normal distribution formal with a safety factor of 1.65\n",
    "combined_interpolated['Stocking_Quantity'] = combined_interpolated['Demand_Forecast'] + 1.65*combined_interpolated['StdDev_Demand']\n",
    "combined_interpolated"
   ]
  },
  {
   "cell_type": "markdown",
   "id": "414ee334-b37a-47b4-8b6c-502809e5b053",
   "metadata": {},
   "source": [
    "Answer the following questions using the latest dataframe. Round all results to 4 decimal places. "
   ]
  },
  {
   "cell_type": "markdown",
   "id": "24f07aba-23b1-4322-9d0e-2eddcb50089c",
   "metadata": {},
   "source": [
    "<font color = 'blue'>**Question 12:** What is the average stocking quantity for 1978?</font>"
   ]
  },
  {
   "cell_type": "markdown",
   "id": "dcb01196-4b36-4a70-8a60-2b3f7f65f467",
   "metadata": {},
   "source": [
    "<font color = 'green'>The average stocking quantity for each month of 1978 is 798.971 units.</font>"
   ]
  },
  {
   "cell_type": "code",
   "execution_count": 26,
   "id": "78999063-80b6-47ce-a56e-b61223863493",
   "metadata": {
    "tags": []
   },
   "outputs": [
    {
     "data": {
      "text/plain": [
       "798.971"
      ]
     },
     "execution_count": 26,
     "metadata": {},
     "output_type": "execute_result"
    }
   ],
   "source": [
    "# Sliced the data for 1978 and performed a mean aggregation function on the Stocking_Quantity column\n",
    "round(combined_interpolated[combined_interpolated['Year']== 1978]['Stocking_Quantity'].mean(),4)"
   ]
  },
  {
   "cell_type": "markdown",
   "id": "1b28c64d-7563-4055-a34e-9009ee418cdd",
   "metadata": {},
   "source": [
    "<font color = 'blue'>**Question 13:** What is the average stocking quantity for 2016?</font>"
   ]
  },
  {
   "cell_type": "markdown",
   "id": "cd0268bc-6421-4f32-990e-c4208e6f8f62",
   "metadata": {},
   "source": [
    "<font color = 'green'>The average stocking quantity for each month of 2016 is 764.4996 units.</font>"
   ]
  },
  {
   "cell_type": "code",
   "execution_count": 27,
   "id": "818e3873-2353-49b3-9beb-f351c49cdadc",
   "metadata": {
    "tags": []
   },
   "outputs": [
    {
     "data": {
      "text/plain": [
       "764.4996"
      ]
     },
     "execution_count": 27,
     "metadata": {},
     "output_type": "execute_result"
    }
   ],
   "source": [
    "# Sliced the data for 2016 and performed a mean aggregation function on the Stocking_Quantity column\n",
    "round(combined_interpolated[combined_interpolated['Year']== 2016]['Stocking_Quantity'].mean(),4)"
   ]
  },
  {
   "cell_type": "markdown",
   "id": "a1228acd-55e7-4048-b787-480104bcd522",
   "metadata": {},
   "source": [
    "## Validate your notebook"
   ]
  },
  {
   "cell_type": "markdown",
   "id": "9b64e52b-95c7-4eaf-840a-8f6d6bf6d556",
   "metadata": {},
   "source": [
    "Restart the kernel and re-run your notebook by selecting Kernel > Restart Kernel and Run All Cells from the Menubar. \n",
    "\n",
    "Then, validate your work. Check to make sure that there are no errors and that the responses you wrote in the markdown cells match the results you get from the code cells."
   ]
  },
  {
   "cell_type": "markdown",
   "id": "a8442ae0-c099-4813-aece-5e127f74faef",
   "metadata": {},
   "source": [
    "## Take the Canvas quiz"
   ]
  },
  {
   "cell_type": "markdown",
   "id": "f0bf8865-3662-45bf-b274-b12bd1f34636",
   "metadata": {},
   "source": [
    "One member (ONLY ONE MEMBER) should take the Canvas quiz (you can attempt upto two times). \n",
    "\n",
    "**IMPORTANT:** More than one team member attempting the quiz is an academic integority violation."
   ]
  }
 ],
 "metadata": {
  "kernelspec": {
   "display_name": "Python 3 (ipykernel)",
   "language": "python",
   "name": "python3"
  },
  "language_info": {
   "codemirror_mode": {
    "name": "ipython",
    "version": 3
   },
   "file_extension": ".py",
   "mimetype": "text/x-python",
   "name": "python",
   "nbconvert_exporter": "python",
   "pygments_lexer": "ipython3",
   "version": "3.7.10"
  }
 },
 "nbformat": 4,
 "nbformat_minor": 5
}
